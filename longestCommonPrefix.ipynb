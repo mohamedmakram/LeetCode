{
  "cells": [
    {
      "cell_type": "code",
      "source": [
        "class Solution:\n",
        "    def longestCommonPrefix(self, strs: List[str]) -> str:\n",
        "        output = \"\"\n",
        "        i = 0\n",
        "        \n",
        "        while i < len(min(strs)):\n",
        "            \n",
        "            pre = strs[0][i]\n",
        "            for s in strs:\n",
        "                if s[i] != pre: return output\n",
        "            output += pre\n",
        "            i+=1 \n",
        "        return output"
      ],
      "metadata": {
        "id": "2sn3pH3cxKp2"
      },
      "execution_count": null,
      "outputs": []
    }
  ],
  "metadata": {
    "colab": {
      "collapsed_sections": [],
      "name": "longestCommonPrefix",
      "toc_visible": true,
      "provenance": []
    },
    "kernelspec": {
      "display_name": "Python 3",
      "name": "python3"
    }
  },
  "nbformat": 4,
  "nbformat_minor": 0
}