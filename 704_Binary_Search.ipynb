{
  "cells": [
    {
      "cell_type": "code",
      "source": [
        "class Solution:\n",
        "    def search(self, nums, target: int) -> int:\n",
        "      i , j = 0, len(nums) -1\n",
        "      while i <= j:\n",
        "        mid = (i + j) // 2\n",
        "        if nums[mid] == target:\n",
        "          return mid \n",
        "        else:\n",
        "          if nums[mid] < target:\n",
        "            i = mid + 1\n",
        "          else:\n",
        "            j = mid - 1\n",
        "      \n",
        "      return -1    "
      ],
      "metadata": {
        "id": "JBXpdZ3Vm3A_"
      },
      "execution_count": null,
      "outputs": []
    },
    {
      "cell_type": "code",
      "source": [
        "s = Solution()\n",
        "s.search([-1,0,3,5,9,12], 2)"
      ],
      "metadata": {
        "id": "pgv9GY_ao0BN",
        "outputId": "4b90cae1-bbee-4949-eb58-cce831f81f33",
        "colab": {
          "base_uri": "https://localhost:8080/"
        }
      },
      "execution_count": null,
      "outputs": [
        {
          "output_type": "execute_result",
          "data": {
            "text/plain": [
              "-1"
            ]
          },
          "metadata": {},
          "execution_count": 26
        }
      ]
    }
  ],
  "metadata": {
    "colab": {
      "collapsed_sections": [],
      "name": "704. Binary Search",
      "provenance": []
    },
    "kernelspec": {
      "display_name": "Python 3",
      "name": "python3"
    }
  },
  "nbformat": 4,
  "nbformat_minor": 0
}